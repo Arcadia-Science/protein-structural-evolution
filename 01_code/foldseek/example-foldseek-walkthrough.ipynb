{
 "cells": [
  {
   "cell_type": "markdown",
   "id": "52c6ac5b",
   "metadata": {},
   "source": [
    "# Using `foldseek` to compare AlphaFold structures"
   ]
  },
  {
   "cell_type": "markdown",
   "id": "2e842775",
   "metadata": {},
   "source": [
    "## Context"
   ]
  },
  {
   "cell_type": "markdown",
   "id": "fe1d43de",
   "metadata": {},
   "source": [
    "In this notebook we will walkthrough how to use `foldseek` to compare AlphaFold protein structural predictions. The current release of the AlphaFold DB contains >200 million protein predictions from ~1 million phylogenetically diverse species. Here, we will programmitcally access full 'foldomes' from the AlphaFold DB using NCBI taxonomic IDs. We will then go through the `foldseek` pipeline, first creating databases for the foldomes we want to compare, and then running `foldseek` and clustering the results.\n",
    "\n",
    "---"
   ]
  },
  {
   "cell_type": "markdown",
   "id": "c8e6c758",
   "metadata": {},
   "source": [
    "## Programmatically downloading AlphaFold foldomes"
   ]
  },
  {
   "cell_type": "markdown",
   "id": "9e664198",
   "metadata": {},
   "source": [
    "AlphaFold data can be accessed using Google’s command line tool `gsutil`. AlphaFold proteins are named using the convention `proteomes/proteome-tax_id-[TAX ID]-[SHARD ID].tar`. We will replace the `[TAX ID]` portion with the desired NCBI taxonomy IDs, in this case the IDs for <em>Xenopus</em> `[8355]`, mouse `[10090]`, and zebrafish `[7955]`. \n",
    "\n",
    "Note: since AlphaFold foldomes can be split across multiple directories, we will use `*` at the end of the file path to download all relevant data. \n",
    "\n",
    "Also, note: since this is notebook running R, the command line calls are wrapped in the `system` function. To run in bash, simply use the code inside the parantheses and quotes.\n",
    "\n",
    "---"
   ]
  },
  {
   "cell_type": "markdown",
   "id": "ea046f2b",
   "metadata": {},
   "source": [
    "Create directories to save AlphaFold data and `foldseek` files."
   ]
  },
  {
   "cell_type": "code",
   "execution_count": 12,
   "id": "e32a2d2a",
   "metadata": {},
   "outputs": [],
   "source": [
    "system('mkdir ~/Desktop/foldseek-walkthrough/')\n",
    "system('mkdir ~/Desktop/foldseek-walkthrough/foldseek/')\n",
    "system('mkdir ~/Desktop/foldseek-walkthrough/foldseek/dbs/')\n",
    "system('mkdir ~/Desktop/foldseek-walkthrough/foldseek/out/')\n",
    "system('mkdir ~/Desktop/foldseek-walkthrough/data/')"
   ]
  },
  {
   "cell_type": "markdown",
   "id": "03329eb6",
   "metadata": {},
   "source": [
    "Set working directory using R (can also do this in bash using `cd`)."
   ]
  },
  {
   "cell_type": "code",
   "execution_count": null,
   "id": "3faf82b3",
   "metadata": {},
   "outputs": [],
   "source": [
    "setwd('~/Desktop/foldseek-walkthrough/')"
   ]
  },
  {
   "cell_type": "markdown",
   "id": "268b70db",
   "metadata": {},
   "source": [
    "Use `gsutil` to download the three foldomes."
   ]
  },
  {
   "cell_type": "code",
   "execution_count": 1,
   "id": "beafe334",
   "metadata": {},
   "outputs": [],
   "source": [
    "#Xenopus\n",
    "system('gsutil -m cp gs://public-datasets-deepmind-alphafold/proteomes/proteome-tax_id-8355-* data/' )\n",
    "\n",
    "#Mouse\n",
    "system('gsutil -m cp gs://public-datasets-deepmind-alphafold/proteomes/proteome-tax_id-10090-* data/' )\n",
    "\n",
    "#Zebrafish\n",
    "system('gsutil -m cp gs://public-datasets-deepmind-alphafold/proteomes/proteome-tax_id-7955-* data/' )"
   ]
  },
  {
   "cell_type": "markdown",
   "id": "f6d39eb6",
   "metadata": {},
   "source": [
    "Untar the foldome directories. `foldseek` expects just one directory containing all of the relevant .pdb or .cif files (one per protein structure)."
   ]
  },
  {
   "cell_type": "code",
   "execution_count": 25,
   "id": "162ec068",
   "metadata": {},
   "outputs": [],
   "source": [
    "setwd('data/')\n",
    "system('ls *.tar |xargs -n1 tar -xzf')\n",
    "setwd('../')"
   ]
  },
  {
   "cell_type": "markdown",
   "id": "5aab079b",
   "metadata": {},
   "source": [
    "## Running `foldseek`"
   ]
  },
  {
   "cell_type": "markdown",
   "id": "07990e8f",
   "metadata": {},
   "source": [
    "Create database with `createdb`."
   ]
  },
  {
   "cell_type": "code",
   "execution_count": 26,
   "id": "88f99cb9",
   "metadata": {},
   "outputs": [],
   "source": [
    "system('foldseek createdb data/ foldseek/dbs/all_foldomesDB')"
   ]
  },
  {
   "cell_type": "markdown",
   "id": "13fc4350",
   "metadata": {},
   "source": [
    "Compare the protein structures using `search`."
   ]
  },
  {
   "cell_type": "code",
   "execution_count": 28,
   "id": "1d14f719",
   "metadata": {},
   "outputs": [],
   "source": [
    "system('foldseek search foldseek/dbs/all_foldomesDB foldseek/dbs/all_foldomesDB foldseek/out/all_by_all foldseek/out/tmp -a')"
   ]
  },
  {
   "cell_type": "markdown",
   "id": "1af37144",
   "metadata": {},
   "source": [
    "Calculate tm scores (`aln2tmscore`) and compile into a .tsv (`createtsv`; useful for downstream analyses)."
   ]
  },
  {
   "cell_type": "code",
   "execution_count": 29,
   "id": "444e49c1",
   "metadata": {},
   "outputs": [],
   "source": [
    "#Get tm scores\n",
    "system('foldseek aln2tmscore foldseek/dbs/all_foldomesDB foldseek/dbs/all_foldomesDB foldseek/out/all_by_all foldseek/out/all_by_all_tmscore')\n",
    "\n",
    "#Compile into .tsv\n",
    "system('foldseek createtsv foldseek/dbs/all_foldomesDB foldseek/dbs/all_foldomesDB foldseek/out/all_by_all_tmscore foldseek/out/all_by_all_tmscore.tsv')"
   ]
  },
  {
   "cell_type": "markdown",
   "id": "b110bac3",
   "metadata": {},
   "source": [
    "Cluster `foldseek` results. `foldseek` has three built in clustering methods:<br> \n",
    "greedy (`--cluster-mode 0`)<br> \n",
    "blast (`--cluster-mode 1`)<br> \n",
    "cdhit (`--cluster-mode 2`)<br> \n",
    "Here we will use greedy (tends to generate better/more protein clusters than the others, at least among the species tested so far)."
   ]
  },
  {
   "cell_type": "code",
   "execution_count": 30,
   "id": "cba5637e",
   "metadata": {},
   "outputs": [],
   "source": [
    "#Cluster\n",
    "system('foldseek clust foldseek/dbs/all_foldomesDB foldseek/out/all_by_all foldseek/out/clu --cluster-mode 0 --similarity-type 2')\n",
    "\n",
    "#Compile into .tsv\n",
    "system('foldseek createtsv foldseek/dbs/all_foldomesDB foldseek/out/all_by_all foldseek/out/clu foldseek/out/clu_greedy.tsv')"
   ]
  }
 ],
 "metadata": {
  "kernelspec": {
   "display_name": "R",
   "language": "R",
   "name": "ir"
  },
  "language_info": {
   "codemirror_mode": "r",
   "file_extension": ".r",
   "mimetype": "text/x-r-source",
   "name": "R",
   "pygments_lexer": "r",
   "version": "4.1.3"
  }
 },
 "nbformat": 4,
 "nbformat_minor": 5
}
